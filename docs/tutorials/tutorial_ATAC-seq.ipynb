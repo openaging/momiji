{
 "cells": [
  {
   "cell_type": "markdown",
   "metadata": {},
   "source": [
    "# Predict Aging clock from ATAC-seq data"
   ]
  },
  {
   "cell_type": "code",
   "execution_count": 1,
   "metadata": {},
   "outputs": [],
   "source": [
    "## Importing all the necessary libraries\n",
    "import pandas as pd\n",
    "from momiji.preprocess._preprocess import df_to_adata\n",
    "from momiji.preprocess._preprocess_utils import *\n",
    "from momiji.models.model import MyModel\n",
    "from momiji.predict.predict import Predictor"
   ]
  },
  {
   "cell_type": "markdown",
   "metadata": {},
   "source": [
    "## Data Preprocessing"
   ]
  },
  {
   "cell_type": "code",
   "execution_count": 2,
   "metadata": {},
   "outputs": [
    {
     "name": "stdout",
     "output_type": "stream",
     "text": [
      "Number of observations: 157\n",
      "Number of features: 80400\n",
      "Total missing values: 0\n",
      "Percentage of missing values: 0.00%\n"
     ]
    }
   ],
   "source": [
    "df = pd.read_pickle(\"../tests/GSE193140.pkl\")\n",
    "adata = df_to_adata(df)"
   ]
  },
  {
   "cell_type": "markdown",
   "metadata": {},
   "source": [
    "## Setup Prediction model"
   ]
  },
  {
   "cell_type": "code",
   "execution_count": 3,
   "metadata": {},
   "outputs": [],
   "source": [
    "features = adata.var.index.values\n",
    "clock_name = \"OcampoATAC1\"\n",
    "model = MyModel(80400, 1, clock_name, features)"
   ]
  },
  {
   "cell_type": "markdown",
   "metadata": {},
   "source": [
    "## Run prediction"
   ]
  },
  {
   "cell_type": "code",
   "execution_count": 4,
   "metadata": {},
   "outputs": [
    {
     "name": "stdout",
     "output_type": "stream",
     "text": [
      "tensor([[ 1501.5334],\n",
      "        [ 1588.1487],\n",
      "        [ 1084.9769],\n",
      "        [ 1816.8400],\n",
      "        [ 2023.4232],\n",
      "        [ 3405.2769],\n",
      "        [ 2517.3367],\n",
      "        [ 1408.3892],\n",
      "        [  886.5591],\n",
      "        [ 2361.1431],\n",
      "        [ 2192.1606],\n",
      "        [ 1210.3245],\n",
      "        [  866.6235],\n",
      "        [  767.0972],\n",
      "        [ 1721.6631],\n",
      "        [  764.2111],\n",
      "        [  790.4974],\n",
      "        [ 2142.7500],\n",
      "        [ 2542.0930],\n",
      "        [ 1804.8187],\n",
      "        [ 1701.9932],\n",
      "        [ 1453.5532],\n",
      "        [ 1563.7797],\n",
      "        [ 1751.1982],\n",
      "        [ 3917.5957],\n",
      "        [10547.9316],\n",
      "        [ 1420.9048],\n",
      "        [15174.0605],\n",
      "        [ 1960.4644],\n",
      "        [ 1760.0852],\n",
      "        [ 1877.9852],\n",
      "        [ 4370.9971],\n",
      "        [ 3583.6763],\n",
      "        [ 2310.2241],\n",
      "        [ 1778.3221],\n",
      "        [ 4170.2686],\n",
      "        [ 2042.5415],\n",
      "        [  737.4671],\n",
      "        [ 2617.0679],\n",
      "        [ 1193.1362],\n",
      "        [ 1709.1934],\n",
      "        [ 2499.1704],\n",
      "        [ 1601.4868],\n",
      "        [ 2002.8677],\n",
      "        [ 1151.6606],\n",
      "        [ 2503.2271],\n",
      "        [ 1608.1553],\n",
      "        [ 1062.7107],\n",
      "        [ 1819.3279],\n",
      "        [ 1562.6493],\n",
      "        [ 1941.5388],\n",
      "        [ 1828.5081],\n",
      "        [ 2277.4380],\n",
      "        [ 1855.4363],\n",
      "        [ 2104.2842],\n",
      "        [ 1211.7235],\n",
      "        [ 1999.0813],\n",
      "        [ 1103.5264],\n",
      "        [ 1094.6462],\n",
      "        [ 1337.8113],\n",
      "        [ 1038.9142],\n",
      "        [ 4020.9712],\n",
      "        [ 5692.9209],\n",
      "        [  916.5483],\n",
      "        [ 3001.5273],\n",
      "        [ 1827.3098],\n",
      "        [ 1011.2055],\n",
      "        [ 3449.3621],\n",
      "        [ 1621.6821],\n",
      "        [ 1122.0800],\n",
      "        [ 2764.8999],\n",
      "        [ 1559.5647],\n",
      "        [ 2160.9407],\n",
      "        [ 1487.6431],\n",
      "        [ 1117.7201],\n",
      "        [ 1754.5374],\n",
      "        [12177.6797],\n",
      "        [  468.6556],\n",
      "        [ 1012.1310],\n",
      "        [  920.1702],\n",
      "        [ 1367.8579],\n",
      "        [ 1537.0427],\n",
      "        [ 1121.6387],\n",
      "        [  696.0325],\n",
      "        [ 1379.2775],\n",
      "        [ 1896.5812],\n",
      "        [ 1724.5006],\n",
      "        [ 1090.1416],\n",
      "        [ 3589.3430],\n",
      "        [  975.2234],\n",
      "        [ 1051.3660],\n",
      "        [ 1910.3335],\n",
      "        [ 2739.0808],\n",
      "        [ 4481.8008],\n",
      "        [ 1206.7129],\n",
      "        [ 2422.1414],\n",
      "        [ 1546.1064],\n",
      "        [ 1380.6525],\n",
      "        [ 2098.0305],\n",
      "        [  948.8671],\n",
      "        [ -321.5695],\n",
      "        [ 1403.8726],\n",
      "        [ 2431.6948],\n",
      "        [  893.4028],\n",
      "        [ 6194.3501],\n",
      "        [ 1050.9331],\n",
      "        [ 2070.8601],\n",
      "        [ 1259.9304],\n",
      "        [ 1595.8782],\n",
      "        [12965.1641],\n",
      "        [ 1146.9700],\n",
      "        [ 2736.7578],\n",
      "        [ 5676.4854],\n",
      "        [ 7598.5088],\n",
      "        [ 1210.7310],\n",
      "        [  396.8820],\n",
      "        [13566.4941],\n",
      "        [ 1142.7783],\n",
      "        [ 1439.2671],\n",
      "        [ 1226.0289],\n",
      "        [ 1928.9198],\n",
      "        [ 1346.6315],\n",
      "        [ 1621.4604],\n",
      "        [ 1122.9449],\n",
      "        [  953.7745],\n",
      "        [ 4927.4414],\n",
      "        [  830.0331],\n",
      "        [ 1890.5010],\n",
      "        [  982.6536],\n",
      "        [ 1426.7023],\n",
      "        [ 2317.6272],\n",
      "        [ 1512.2900],\n",
      "        [ 1552.9371],\n",
      "        [ 2440.3418],\n",
      "        [ 1657.6997],\n",
      "        [ 1956.3556],\n",
      "        [ 2203.2830],\n",
      "        [ 1691.9490],\n",
      "        [ 1696.9265],\n",
      "        [ 1342.8909],\n",
      "        [ 2126.2429],\n",
      "        [ 1183.7292],\n",
      "        [ 2685.6313],\n",
      "        [ 1376.6321],\n",
      "        [ 2112.2168],\n",
      "        [ 1326.5381],\n",
      "        [ 1673.7404],\n",
      "        [ 1471.7725],\n",
      "        [ 1958.2052],\n",
      "        [ 1571.3967],\n",
      "        [ 1443.7825],\n",
      "        [ 2490.2427],\n",
      "        [ 1872.7622],\n",
      "        [ 2032.2155],\n",
      "        [ 1650.4752],\n",
      "        [ 1178.5913],\n",
      "        [ 1709.8256]])\n"
     ]
    }
   ],
   "source": [
    "predictor = Predictor(adata, model, batch_size=1024)\n",
    "preds = predictor(adata)\n",
    "print(preds)"
   ]
  }
 ],
 "metadata": {
  "kernelspec": {
   "display_name": ".venv",
   "language": "python",
   "name": "python3"
  },
  "language_info": {
   "codemirror_mode": {
    "name": "ipython",
    "version": 3
   },
   "file_extension": ".py",
   "mimetype": "text/x-python",
   "name": "python",
   "nbconvert_exporter": "python",
   "pygments_lexer": "ipython3",
   "version": "3.11.5"
  }
 },
 "nbformat": 4,
 "nbformat_minor": 2
}
