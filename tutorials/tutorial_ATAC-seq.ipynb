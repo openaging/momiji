{
 "cells": [
  {
   "cell_type": "markdown",
   "metadata": {},
   "source": [
    "# Predict Aging clock from ATAC-seq data"
   ]
  },
  {
   "cell_type": "code",
   "execution_count": 6,
   "metadata": {},
   "outputs": [],
   "source": [
    "## Importing all the necessary libraries\n",
    "import pandas as pd\n",
    "from momiji.preprocess._preprocess import df_to_adata\n",
    "from momiji.preprocess._preprocess_utils import *\n",
    "from momiji.models.model import MyModel\n",
    "from momiji.predict.predict import Predictor"
   ]
  },
  {
   "cell_type": "markdown",
   "metadata": {},
   "source": [
    "## Data Preprocessing"
   ]
  },
  {
   "cell_type": "code",
   "execution_count": 4,
   "metadata": {},
   "outputs": [
    {
     "name": "stdout",
     "output_type": "stream",
     "text": [
      "Number of observations: 157\n",
      "Number of features: 80400\n",
      "Total missing values: 0\n",
      "Percentage of missing values: 0.00%\n"
     ]
    }
   ],
   "source": [
    "df = pd.read_pickle(\"../tests/GSE193140.pkl\")\n",
    "adata = df_to_adata(df)"
   ]
  },
  {
   "cell_type": "markdown",
   "metadata": {},
   "source": [
    "## Setup Prediction model"
   ]
  },
  {
   "cell_type": "code",
   "execution_count": 8,
   "metadata": {},
   "outputs": [],
   "source": [
    "features = adata.var.index.values\n",
    "clock_name = \"OcampoATAC1\"\n",
    "model = MyModel(80400, 1, clock_name, features)"
   ]
  },
  {
   "cell_type": "markdown",
   "metadata": {},
   "source": [
    "## Run prediction"
   ]
  },
  {
   "cell_type": "code",
   "execution_count": 9,
   "metadata": {},
   "outputs": [
    {
     "name": "stdout",
     "output_type": "stream",
     "text": [
      "tensor([[ 231.0168],\n",
      "        [ 259.0319],\n",
      "        [ 156.5935],\n",
      "        [ -95.8944],\n",
      "        [ -22.8176],\n",
      "        [ 348.7091],\n",
      "        [ 847.7806],\n",
      "        [ 170.3753],\n",
      "        [  66.9420],\n",
      "        [ 540.1530],\n",
      "        [ 316.6537],\n",
      "        [ -61.4422],\n",
      "        [ 212.3902],\n",
      "        [  74.4531],\n",
      "        [  91.0104],\n",
      "        [ 214.1678],\n",
      "        [ 313.8839],\n",
      "        [ 168.3284],\n",
      "        [ 458.1735],\n",
      "        [ 203.5697],\n",
      "        [ 245.6466],\n",
      "        [-125.5219],\n",
      "        [ 356.5895],\n",
      "        [ -36.7998],\n",
      "        [ 699.6334],\n",
      "        [1960.1525],\n",
      "        [  79.8139],\n",
      "        [1958.9457],\n",
      "        [ 386.7158],\n",
      "        [ 309.8630],\n",
      "        [ 169.2033],\n",
      "        [1287.4601],\n",
      "        [ 301.0929],\n",
      "        [ 335.5332],\n",
      "        [ 423.3468],\n",
      "        [ 394.7954],\n",
      "        [ 414.4804],\n",
      "        [ 125.9943],\n",
      "        [ 396.8904],\n",
      "        [  80.8751],\n",
      "        [ 144.6320],\n",
      "        [ 504.5421],\n",
      "        [ 233.3070],\n",
      "        [ 283.4246],\n",
      "        [ 138.2536],\n",
      "        [ 508.5600],\n",
      "        [ 120.3128],\n",
      "        [ 114.1690],\n",
      "        [ 405.6117],\n",
      "        [ -20.6905],\n",
      "        [ 194.2002],\n",
      "        [ 268.3076],\n",
      "        [ 281.5748],\n",
      "        [  64.0219],\n",
      "        [  31.5629],\n",
      "        [  98.6103],\n",
      "        [ 262.3363],\n",
      "        [ 362.1371],\n",
      "        [ 181.2498],\n",
      "        [-316.2473],\n",
      "        [  34.8198],\n",
      "        [1035.5177],\n",
      "        [ 986.6406],\n",
      "        [ 306.8617],\n",
      "        [  50.1132],\n",
      "        [   4.2283],\n",
      "        [ 158.0434],\n",
      "        [ 526.4792],\n",
      "        [  77.3285],\n",
      "        [ 290.0445],\n",
      "        [ 195.1499],\n",
      "        [ 190.9744],\n",
      "        [ 244.6841],\n",
      "        [  96.7613],\n",
      "        [  18.6752],\n",
      "        [ 172.3649],\n",
      "        [2031.2714],\n",
      "        [ -97.8614],\n",
      "        [  85.5378],\n",
      "        [  21.6051],\n",
      "        [ 124.2595],\n",
      "        [ 369.9589],\n",
      "        [ 221.7986],\n",
      "        [ -46.8105],\n",
      "        [ 248.1889],\n",
      "        [ 127.4660],\n",
      "        [  -8.3615],\n",
      "        [  17.9674],\n",
      "        [ 288.9206],\n",
      "        [ 101.5949],\n",
      "        [ 197.2865],\n",
      "        [ 213.3804],\n",
      "        [ 177.9980],\n",
      "        [ 637.3582],\n",
      "        [ -56.7286],\n",
      "        [  74.7185],\n",
      "        [ -91.3290],\n",
      "        [ 209.6453],\n",
      "        [ 309.1178],\n",
      "        [ 102.0936],\n",
      "        [-239.9615],\n",
      "        [ -67.4428],\n",
      "        [ 202.4449],\n",
      "        [-256.7937],\n",
      "        [ 993.9792],\n",
      "        [ -17.3207],\n",
      "        [ 422.1840],\n",
      "        [ 163.3687],\n",
      "        [ -23.5372],\n",
      "        [-534.3470],\n",
      "        [ 145.8745],\n",
      "        [ 221.5227],\n",
      "        [ 745.2267],\n",
      "        [1066.2963],\n",
      "        [ 288.8018],\n",
      "        [  27.4042],\n",
      "        [-672.0389],\n",
      "        [  60.9168],\n",
      "        [  81.7432],\n",
      "        [-199.7500],\n",
      "        [ 249.7682],\n",
      "        [ 404.0923],\n",
      "        [ 232.1868],\n",
      "        [ 172.4419],\n",
      "        [ 200.8696],\n",
      "        [ 984.4700],\n",
      "        [ 185.0535],\n",
      "        [  52.1886],\n",
      "        [ -93.5554],\n",
      "        [ 481.4331],\n",
      "        [ 503.7661],\n",
      "        [ 295.1267],\n",
      "        [ 327.2328],\n",
      "        [  58.5169],\n",
      "        [ 144.7780],\n",
      "        [ 109.6945],\n",
      "        [  71.5265],\n",
      "        [  68.0304],\n",
      "        [ 300.7690],\n",
      "        [ 168.3630],\n",
      "        [  46.9779],\n",
      "        [ 157.8245],\n",
      "        [ 115.5429],\n",
      "        [ -64.8732],\n",
      "        [ 254.4240],\n",
      "        [ -35.0612],\n",
      "        [ 173.4925],\n",
      "        [ 217.6815],\n",
      "        [ 417.1664],\n",
      "        [ 101.5248],\n",
      "        [ -81.1437],\n",
      "        [  51.9256],\n",
      "        [ 185.5157],\n",
      "        [ 352.5773],\n",
      "        [  -5.4571],\n",
      "        [ -37.8264],\n",
      "        [ 242.5270]])\n"
     ]
    }
   ],
   "source": [
    "predictor = Predictor(adata, model, batch_size=1024)\n",
    "preds = predictor(adata)\n",
    "print(preds)"
   ]
  }
 ],
 "metadata": {
  "kernelspec": {
   "display_name": ".venv",
   "language": "python",
   "name": "python3"
  },
  "language_info": {
   "codemirror_mode": {
    "name": "ipython",
    "version": 3
   },
   "file_extension": ".py",
   "mimetype": "text/x-python",
   "name": "python",
   "nbconvert_exporter": "python",
   "pygments_lexer": "ipython3",
   "version": "3.11.5"
  }
 },
 "nbformat": 4,
 "nbformat_minor": 2
}
